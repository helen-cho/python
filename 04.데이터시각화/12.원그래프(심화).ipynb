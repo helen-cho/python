{
 "cells": [
  {
   "cell_type": "code",
   "execution_count": 1,
   "id": "65201902",
   "metadata": {},
   "outputs": [],
   "source": [
    "import matplotlib.pyplot as plt\n",
    "plt.rc('font', family='Malgun Gothic')\n",
    "plt.rc('axes', unicode_minus=False)"
   ]
  },
  {
   "cell_type": "code",
   "execution_count": 3,
   "id": "9489f329",
   "metadata": {},
   "outputs": [],
   "source": [
    "import pandas as pd\n",
    "df = pd.read_csv('data/score.csv')"
   ]
  },
  {
   "cell_type": "code",
   "execution_count": 14,
   "id": "1c7b7158",
   "metadata": {},
   "outputs": [
    {
     "data": {
      "image/png": "[encoded data removed]",
      "text/plain": [
       "<Figure size 640x480 with 1 Axes>"
      ]
     },
     "metadata": {},
     "output_type": "display_data"
    }
   ],
   "source": [
    "group = df.groupby('SW특기').size()\n",
    "plt.pie(group.values, explode=[0.05] * len(group), \n",
    "        wedgeprops={'width':0.8, 'alpha':0.3},\n",
    "        labels=group.index, autopct='%.1f%%')\n",
    "plt.show()"
   ]
  },
  {
   "cell_type": "code",
   "execution_count": 2,
   "id": "7c3d37e3",
   "metadata": {},
   "outputs": [
    {
     "data": {
      "text/html": [
       "<div>\n",
       "<style scoped>\n",
       "    .dataframe tbody tr th:only-of-type {\n",
       "        vertical-align: middle;\n",
       "    }\n",
       "\n",
       "    .dataframe tbody tr th {\n",
       "        vertical-align: top;\n",
       "    }\n",
       "\n",
       "    .dataframe thead th {\n",
       "        text-align: right;\n",
       "    }\n",
       "</style>\n",
       "<table border=\"1\" class=\"dataframe\">\n",
       "  <thead>\n",
       "    <tr style=\"text-align: right;\">\n",
       "      <th></th>\n",
       "      <th>강좌번호</th>\n",
       "      <th>학생번호</th>\n",
       "      <th>신청일</th>\n",
       "      <th>점수</th>\n",
       "    </tr>\n",
       "  </thead>\n",
       "  <tbody>\n",
       "    <tr>\n",
       "      <th>0</th>\n",
       "      <td>C401</td>\n",
       "      <td>92414033</td>\n",
       "      <td>98/03/02</td>\n",
       "      <td>85.0</td>\n",
       "    </tr>\n",
       "    <tr>\n",
       "      <th>1</th>\n",
       "      <td>C301</td>\n",
       "      <td>92414033</td>\n",
       "      <td>98/03/02</td>\n",
       "      <td>80.0</td>\n",
       "    </tr>\n",
       "    <tr>\n",
       "      <th>2</th>\n",
       "      <td>C421</td>\n",
       "      <td>92414033</td>\n",
       "      <td>98/03/02</td>\n",
       "      <td>NaN</td>\n",
       "    </tr>\n",
       "    <tr>\n",
       "      <th>3</th>\n",
       "      <td>C401</td>\n",
       "      <td>95414058</td>\n",
       "      <td>98/03/03</td>\n",
       "      <td>90.0</td>\n",
       "    </tr>\n",
       "    <tr>\n",
       "      <th>4</th>\n",
       "      <td>C301</td>\n",
       "      <td>95414058</td>\n",
       "      <td>98/03/03</td>\n",
       "      <td>80.0</td>\n",
       "    </tr>\n",
       "    <tr>\n",
       "      <th>5</th>\n",
       "      <td>C312</td>\n",
       "      <td>95414058</td>\n",
       "      <td>98/03/03</td>\n",
       "      <td>80.0</td>\n",
       "    </tr>\n",
       "    <tr>\n",
       "      <th>6</th>\n",
       "      <td>C401</td>\n",
       "      <td>92514023</td>\n",
       "      <td>98/03/03</td>\n",
       "      <td>NaN</td>\n",
       "    </tr>\n",
       "    <tr>\n",
       "      <th>7</th>\n",
       "      <td>C301</td>\n",
       "      <td>92514023</td>\n",
       "      <td>98/03/03</td>\n",
       "      <td>70.0</td>\n",
       "    </tr>\n",
       "    <tr>\n",
       "      <th>8</th>\n",
       "      <td>C401</td>\n",
       "      <td>92414029</td>\n",
       "      <td>98/03/03</td>\n",
       "      <td>90.0</td>\n",
       "    </tr>\n",
       "    <tr>\n",
       "      <th>9</th>\n",
       "      <td>C421</td>\n",
       "      <td>92414029</td>\n",
       "      <td>98/03/03</td>\n",
       "      <td>NaN</td>\n",
       "    </tr>\n",
       "    <tr>\n",
       "      <th>10</th>\n",
       "      <td>C312</td>\n",
       "      <td>92414029</td>\n",
       "      <td>98/03/03</td>\n",
       "      <td>70.0</td>\n",
       "    </tr>\n",
       "    <tr>\n",
       "      <th>11</th>\n",
       "      <td>E221</td>\n",
       "      <td>92414029</td>\n",
       "      <td>98/03/03</td>\n",
       "      <td>75.0</td>\n",
       "    </tr>\n",
       "    <tr>\n",
       "      <th>12</th>\n",
       "      <td>A109</td>\n",
       "      <td>92414029</td>\n",
       "      <td>98/03/03</td>\n",
       "      <td>90.0</td>\n",
       "    </tr>\n",
       "    <tr>\n",
       "      <th>13</th>\n",
       "      <td>C301</td>\n",
       "      <td>92514009</td>\n",
       "      <td>98/03/03</td>\n",
       "      <td>70.0</td>\n",
       "    </tr>\n",
       "    <tr>\n",
       "      <th>14</th>\n",
       "      <td>E221</td>\n",
       "      <td>92514009</td>\n",
       "      <td>98/03/03</td>\n",
       "      <td>85.0</td>\n",
       "    </tr>\n",
       "    <tr>\n",
       "      <th>15</th>\n",
       "      <td>C301</td>\n",
       "      <td>96414404</td>\n",
       "      <td>98/03/04</td>\n",
       "      <td>75.0</td>\n",
       "    </tr>\n",
       "    <tr>\n",
       "      <th>16</th>\n",
       "      <td>C401</td>\n",
       "      <td>96414404</td>\n",
       "      <td>98/03/04</td>\n",
       "      <td>75.0</td>\n",
       "    </tr>\n",
       "    <tr>\n",
       "      <th>17</th>\n",
       "      <td>C421</td>\n",
       "      <td>96414404</td>\n",
       "      <td>98/03/04</td>\n",
       "      <td>75.0</td>\n",
       "    </tr>\n",
       "    <tr>\n",
       "      <th>18</th>\n",
       "      <td>C312</td>\n",
       "      <td>92454018</td>\n",
       "      <td>98/03/04</td>\n",
       "      <td>90.0</td>\n",
       "    </tr>\n",
       "    <tr>\n",
       "      <th>19</th>\n",
       "      <td>E221</td>\n",
       "      <td>92454018</td>\n",
       "      <td>98/03/04</td>\n",
       "      <td>90.0</td>\n",
       "    </tr>\n",
       "    <tr>\n",
       "      <th>20</th>\n",
       "      <td>A109</td>\n",
       "      <td>95454003</td>\n",
       "      <td>98/03/05</td>\n",
       "      <td>85.0</td>\n",
       "    </tr>\n",
       "    <tr>\n",
       "      <th>21</th>\n",
       "      <td>C301</td>\n",
       "      <td>95454003</td>\n",
       "      <td>98/03/05</td>\n",
       "      <td>83.0</td>\n",
       "    </tr>\n",
       "    <tr>\n",
       "      <th>22</th>\n",
       "      <td>E221</td>\n",
       "      <td>95454003</td>\n",
       "      <td>98/03/05</td>\n",
       "      <td>75.0</td>\n",
       "    </tr>\n",
       "  </tbody>\n",
       "</table>\n",
       "</div>"
      ],
      "text/plain": [
       "    강좌번호      학생번호       신청일    점수\n",
       "0   C401  92414033  98/03/02  85.0\n",
       "1   C301  92414033  98/03/02  80.0\n",
       "2   C421  92414033  98/03/02   NaN\n",
       "3   C401  95414058  98/03/03  90.0\n",
       "4   C301  95414058  98/03/03  80.0\n",
       "5   C312  95414058  98/03/03  80.0\n",
       "6   C401  92514023  98/03/03   NaN\n",
       "7   C301  92514023  98/03/03  70.0\n",
       "8   C401  92414029  98/03/03  90.0\n",
       "9   C421  92414029  98/03/03   NaN\n",
       "10  C312  92414029  98/03/03  70.0\n",
       "11  E221  92414029  98/03/03  75.0\n",
       "12  A109  92414029  98/03/03  90.0\n",
       "13  C301  92514009  98/03/03  70.0\n",
       "14  E221  92514009  98/03/03  85.0\n",
       "15  C301  96414404  98/03/04  75.0\n",
       "16  C401  96414404  98/03/04  75.0\n",
       "17  C421  96414404  98/03/04  75.0\n",
       "18  C312  92454018  98/03/04  90.0\n",
       "19  E221  92454018  98/03/04  90.0\n",
       "20  A109  95454003  98/03/05  85.0\n",
       "21  C301  95454003  98/03/05  83.0\n",
       "22  E221  95454003  98/03/05  75.0"
      ]
     },
     "execution_count": 2,
     "metadata": {},
     "output_type": "execute_result"
    }
   ],
   "source": [
    "import pandas as pd\n",
    "enroll=pd.read_csv('data/수강.csv')\n",
    "enroll"
   ]
  },
  {
   "cell_type": "code",
   "execution_count": 8,
   "id": "73bef871",
   "metadata": {},
   "outputs": [
    {
     "data": {
      "text/html": [
       "<div>\n",
       "<style scoped>\n",
       "    .dataframe tbody tr th:only-of-type {\n",
       "        vertical-align: middle;\n",
       "    }\n",
       "\n",
       "    .dataframe tbody tr th {\n",
       "        vertical-align: top;\n",
       "    }\n",
       "\n",
       "    .dataframe thead th {\n",
       "        text-align: right;\n",
       "    }\n",
       "</style>\n",
       "<table border=\"1\" class=\"dataframe\">\n",
       "  <thead>\n",
       "    <tr style=\"text-align: right;\">\n",
       "      <th></th>\n",
       "      <th>강좌번호</th>\n",
       "      <th>강좌이름</th>\n",
       "      <th>강의시수</th>\n",
       "      <th>강의실</th>\n",
       "      <th>담당교수</th>\n",
       "      <th>최대인원</th>\n",
       "      <th>인원수</th>\n",
       "    </tr>\n",
       "  </thead>\n",
       "  <tbody>\n",
       "    <tr>\n",
       "      <th>0</th>\n",
       "      <td>C301</td>\n",
       "      <td>파일처리론</td>\n",
       "      <td>3</td>\n",
       "      <td>506</td>\n",
       "      <td>221</td>\n",
       "      <td>100</td>\n",
       "      <td>6</td>\n",
       "    </tr>\n",
       "    <tr>\n",
       "      <th>1</th>\n",
       "      <td>C401</td>\n",
       "      <td>데이터베이스</td>\n",
       "      <td>3</td>\n",
       "      <td>414</td>\n",
       "      <td>221</td>\n",
       "      <td>80</td>\n",
       "      <td>5</td>\n",
       "    </tr>\n",
       "    <tr>\n",
       "      <th>2</th>\n",
       "      <td>C421</td>\n",
       "      <td>알고리즘</td>\n",
       "      <td>3</td>\n",
       "      <td>510</td>\n",
       "      <td>228</td>\n",
       "      <td>80</td>\n",
       "      <td>3</td>\n",
       "    </tr>\n",
       "    <tr>\n",
       "      <th>3</th>\n",
       "      <td>C312</td>\n",
       "      <td>자료구조</td>\n",
       "      <td>2</td>\n",
       "      <td>510</td>\n",
       "      <td>228</td>\n",
       "      <td>100</td>\n",
       "      <td>3</td>\n",
       "    </tr>\n",
       "    <tr>\n",
       "      <th>4</th>\n",
       "      <td>E221</td>\n",
       "      <td>논리회로</td>\n",
       "      <td>3</td>\n",
       "      <td>304</td>\n",
       "      <td>311</td>\n",
       "      <td>100</td>\n",
       "      <td>4</td>\n",
       "    </tr>\n",
       "    <tr>\n",
       "      <th>5</th>\n",
       "      <td>A109</td>\n",
       "      <td>한국의건축문화</td>\n",
       "      <td>2</td>\n",
       "      <td>101</td>\n",
       "      <td>509</td>\n",
       "      <td>120</td>\n",
       "      <td>2</td>\n",
       "    </tr>\n",
       "  </tbody>\n",
       "</table>\n",
       "</div>"
      ],
      "text/plain": [
       "   강좌번호     강좌이름  강의시수  강의실  담당교수  최대인원  인원수\n",
       "0  C301    파일처리론     3  506   221   100    6\n",
       "1  C401   데이터베이스     3  414   221    80    5\n",
       "2  C421     알고리즘     3  510   228    80    3\n",
       "3  C312     자료구조     2  510   228   100    3\n",
       "4  E221     논리회로     3  304   311   100    4\n",
       "5  A109  한국의건축문화     2  101   509   120    2"
      ]
     },
     "execution_count": 8,
     "metadata": {},
     "output_type": "execute_result"
    }
   ],
   "source": [
    "group = enroll.groupby('강좌번호').size().to_frame('인원수')\n",
    "cou = pd.read_csv('data/강좌.csv')\n",
    "merge = cou.merge(group, on='강좌번호')\n",
    "merge"
   ]
  },
  {
   "cell_type": "code",
   "execution_count": 10,
   "id": "d9d30c1e",
   "metadata": {},
   "outputs": [],
   "source": [
    "labels = merge['강좌이름']\n",
    "values = merge['인원수']"
   ]
  },
  {
   "cell_type": "code",
   "execution_count": 17,
   "id": "d963ae69",
   "metadata": {},
   "outputs": [
    {
     "data": {
      "image/png": "[encoded data removed]",
      "text/plain": [
       "<Figure size 640x480 with 1 Axes>"
      ]
     },
     "metadata": {},
     "output_type": "display_data"
    }
   ],
   "source": [
    "colors = ['#FFADAD','#FFD6A5','#FDFFB6','#CAFFBF','#9BF6FF','#A0C4FF']\n",
    "plt.pie(values, labels=labels, wedgeprops={'width':0.8}, colors=colors, \n",
    "        autopct='%.1f%%', explode=[0.05]*len(values))\n",
    "plt.show()"
   ]
  },
  {
   "cell_type": "code",
   "execution_count": 18,
   "id": "cef8fc99",
   "metadata": {},
   "outputs": [
    {
     "data": {
      "text/html": [
       "<div>\n",
       "<style scoped>\n",
       "    .dataframe tbody tr th:only-of-type {\n",
       "        vertical-align: middle;\n",
       "    }\n",
       "\n",
       "    .dataframe tbody tr th {\n",
       "        vertical-align: top;\n",
       "    }\n",
       "\n",
       "    .dataframe thead th {\n",
       "        text-align: right;\n",
       "    }\n",
       "</style>\n",
       "<table border=\"1\" class=\"dataframe\">\n",
       "  <thead>\n",
       "    <tr style=\"text-align: right;\">\n",
       "      <th></th>\n",
       "      <th>학생번호</th>\n",
       "      <th>학생이름</th>\n",
       "      <th>학생학과</th>\n",
       "      <th>학년</th>\n",
       "      <th>생년월일</th>\n",
       "      <th>지도교수</th>\n",
       "    </tr>\n",
       "  </thead>\n",
       "  <tbody>\n",
       "    <tr>\n",
       "      <th>0</th>\n",
       "      <td>92414029</td>\n",
       "      <td>서연우</td>\n",
       "      <td>전산</td>\n",
       "      <td>3</td>\n",
       "      <td>73/10/06</td>\n",
       "      <td>228</td>\n",
       "    </tr>\n",
       "    <tr>\n",
       "      <th>1</th>\n",
       "      <td>92414033</td>\n",
       "      <td>김창덕</td>\n",
       "      <td>전산</td>\n",
       "      <td>4</td>\n",
       "      <td>73/10/26</td>\n",
       "      <td>221</td>\n",
       "    </tr>\n",
       "    <tr>\n",
       "      <th>2</th>\n",
       "      <td>92514009</td>\n",
       "      <td>이지행</td>\n",
       "      <td>전자</td>\n",
       "      <td>4</td>\n",
       "      <td>73/11/16</td>\n",
       "      <td>311</td>\n",
       "    </tr>\n",
       "    <tr>\n",
       "      <th>3</th>\n",
       "      <td>92514023</td>\n",
       "      <td>김형명</td>\n",
       "      <td>전자</td>\n",
       "      <td>4</td>\n",
       "      <td>73/08/29</td>\n",
       "      <td>311</td>\n",
       "    </tr>\n",
       "    <tr>\n",
       "      <th>4</th>\n",
       "      <td>92454018</td>\n",
       "      <td>이원구</td>\n",
       "      <td>건축</td>\n",
       "      <td>3</td>\n",
       "      <td>74/09/30</td>\n",
       "      <td>509</td>\n",
       "    </tr>\n",
       "    <tr>\n",
       "      <th>5</th>\n",
       "      <td>95454003</td>\n",
       "      <td>이재영</td>\n",
       "      <td>건축</td>\n",
       "      <td>4</td>\n",
       "      <td>76/02/06</td>\n",
       "      <td>509</td>\n",
       "    </tr>\n",
       "    <tr>\n",
       "      <th>6</th>\n",
       "      <td>95414058</td>\n",
       "      <td>박혜경</td>\n",
       "      <td>전산</td>\n",
       "      <td>4</td>\n",
       "      <td>76/03/12</td>\n",
       "      <td>221</td>\n",
       "    </tr>\n",
       "    <tr>\n",
       "      <th>7</th>\n",
       "      <td>96414404</td>\n",
       "      <td>김수정</td>\n",
       "      <td>전산</td>\n",
       "      <td>3</td>\n",
       "      <td>77/12/22</td>\n",
       "      <td>228</td>\n",
       "    </tr>\n",
       "    <tr>\n",
       "      <th>8</th>\n",
       "      <td>96414405</td>\n",
       "      <td>홍길동</td>\n",
       "      <td>전산</td>\n",
       "      <td>3</td>\n",
       "      <td>77/12/22</td>\n",
       "      <td>228</td>\n",
       "    </tr>\n",
       "  </tbody>\n",
       "</table>\n",
       "</div>"
      ],
      "text/plain": [
       "       학생번호 학생이름 학생학과  학년      생년월일  지도교수\n",
       "0  92414029  서연우   전산   3  73/10/06   228\n",
       "1  92414033  김창덕   전산   4  73/10/26   221\n",
       "2  92514009  이지행   전자   4  73/11/16   311\n",
       "3  92514023  김형명   전자   4  73/08/29   311\n",
       "4  92454018  이원구   건축   3  74/09/30   509\n",
       "5  95454003  이재영   건축   4  76/02/06   509\n",
       "6  95414058  박혜경   전산   4  76/03/12   221\n",
       "7  96414404  김수정   전산   3  77/12/22   228\n",
       "8  96414405  홍길동   전산   3  77/12/22   228"
      ]
     },
     "execution_count": 18,
     "metadata": {},
     "output_type": "execute_result"
    }
   ],
   "source": [
    "stu = pd.read_csv('data/학생.csv')\n",
    "stu"
   ]
  },
  {
   "cell_type": "code",
   "execution_count": 19,
   "id": "24221256",
   "metadata": {},
   "outputs": [
    {
     "data": {
      "text/plain": [
       "학생학과\n",
       "건축    2\n",
       "전산    5\n",
       "전자    2\n",
       "dtype: int64"
      ]
     },
     "execution_count": 19,
     "metadata": {},
     "output_type": "execute_result"
    }
   ],
   "source": [
    "group = stu.groupby('학생학과').size()\n",
    "group"
   ]
  },
  {
   "cell_type": "code",
   "execution_count": 21,
   "id": "42c18f38",
   "metadata": {},
   "outputs": [
    {
     "data": {
      "image/png": "[encoded data removed]",
      "text/plain": [
       "<Figure size 640x480 with 1 Axes>"
      ]
     },
     "metadata": {},
     "output_type": "display_data"
    }
   ],
   "source": [
    "labels = group.index\n",
    "values = group.values\n",
    "plt.pie(values, labels=labels, autopct='%.0f%%')\n",
    "plt.show()"
   ]
  },
  {
   "cell_type": "code",
   "execution_count": 24,
   "id": "47f6a3b4",
   "metadata": {},
   "outputs": [],
   "source": [
    "def grade(score):\n",
    "    if score>=90:\n",
    "        return 'A'\n",
    "    elif score >=80:\n",
    "        return 'B'\n",
    "    elif score >=70:\n",
    "        return 'C'\n",
    "    elif score >= 60:\n",
    "        return 'D'\n",
    "    else:\n",
    "        return 'F'"
   ]
  },
  {
   "cell_type": "code",
   "execution_count": 39,
   "id": "294e8127",
   "metadata": {},
   "outputs": [
    {
     "data": {
      "image/png": "[encoded data removed]",
      "text/plain": [
       "<Figure size 640x480 with 1 Axes>"
      ]
     },
     "metadata": {},
     "output_type": "display_data"
    }
   ],
   "source": [
    "enroll['학점'] = enroll['점수'].apply(grade)\n",
    "group = enroll.groupby('학점').size()\n",
    "plt.pie(group.values, explode=[0.05] * len(group), wedgeprops={'width':0.8},\n",
    "        labels=group.index + '학점', autopct='%.0f%%')\n",
    "plt.show()"
   ]
  },
  {
   "cell_type": "code",
   "execution_count": 41,
   "id": "b3232b67",
   "metadata": {},
   "outputs": [],
   "source": [
    "def grade(score):\n",
    "    if score >=90:\n",
    "        return 'A'\n",
    "    elif score >= 80:\n",
    "        return 'B'\n",
    "    elif score >= 70:\n",
    "        return 'C'\n",
    "    elif score >= 60:\n",
    "        return 'D'\n",
    "    else:\n",
    "        return 'F'"
   ]
  },
  {
   "cell_type": "code",
   "execution_count": 44,
   "id": "e21a3ef1",
   "metadata": {},
   "outputs": [
    {
     "data": {
      "text/plain": [
       "학점\n",
       "A    5\n",
       "B    7\n",
       "C    7\n",
       "D    1\n",
       "F    3\n",
       "dtype: int64"
      ]
     },
     "execution_count": 44,
     "metadata": {},
     "output_type": "execute_result"
    }
   ],
   "source": [
    "enroll = pd.read_csv('data/수강.csv')\n",
    "enroll['학점'] = enroll['점수'].apply(grade)\n",
    "group = enroll.groupby('학점').size()\n",
    "group"
   ]
  },
  {
   "cell_type": "code",
   "execution_count": 53,
   "id": "971586a1",
   "metadata": {},
   "outputs": [
    {
     "data": {
      "image/png": "[encoded data removed]",
      "text/plain": [
       "<Figure size 640x480 with 1 Axes>"
      ]
     },
     "metadata": {},
     "output_type": "display_data"
    }
   ],
   "source": [
    "plt.pie(group.values, explode=[0.05]*len(group), wedgeprops={'width':0.8},\n",
    "        textprops={'color':'pink', 'size':10},\n",
    "        labels=group.index + '학점', autopct='%.0f%%')\n",
    "plt.show()"
   ]
  }
 ],
 "metadata": {
  "kernelspec": {
   "display_name": "Python 3",
   "language": "python",
   "name": "python3"
  },
  "language_info": {
   "codemirror_mode": {
    "name": "ipython",
    "version": 3
   },
   "file_extension": ".py",
   "mimetype": "text/x-python",
   "name": "python",
   "nbconvert_exporter": "python",
   "pygments_lexer": "ipython3",
   "version": "3.10.10"
  }
 },
 "nbformat": 4,
 "nbformat_minor": 5
}
